{
 "cells": [
  {
   "cell_type": "code",
   "execution_count": 1,
   "id": "86f57c05",
   "metadata": {},
   "outputs": [],
   "source": [
    "import pandas as pd\n",
    "import numpy as np\n",
    "import matplotlib.pyplot as plt"
   ]
  },
  {
   "cell_type": "code",
   "execution_count": 2,
   "id": "4f8db3e8",
   "metadata": {},
   "outputs": [
    {
     "data": {
      "text/html": [
       "<div>\n",
       "<style scoped>\n",
       "    .dataframe tbody tr th:only-of-type {\n",
       "        vertical-align: middle;\n",
       "    }\n",
       "\n",
       "    .dataframe tbody tr th {\n",
       "        vertical-align: top;\n",
       "    }\n",
       "\n",
       "    .dataframe thead th {\n",
       "        text-align: right;\n",
       "    }\n",
       "</style>\n",
       "<table border=\"1\" class=\"dataframe\">\n",
       "  <thead>\n",
       "    <tr style=\"text-align: right;\">\n",
       "      <th></th>\n",
       "      <th>No</th>\n",
       "      <th>comments</th>\n",
       "      <th>issue</th>\n",
       "    </tr>\n",
       "  </thead>\n",
       "  <tbody>\n",
       "    <tr>\n",
       "      <th>0</th>\n",
       "      <td>0</td>\n",
       "      <td>new activation power new device</td>\n",
       "      <td>['activation', 'power']</td>\n",
       "    </tr>\n",
       "    <tr>\n",
       "      <th>1</th>\n",
       "      <td>1</td>\n",
       "      <td>phone would turn activation apple logo doesnt ...</td>\n",
       "      <td>['activation', 'power']</td>\n",
       "    </tr>\n",
       "    <tr>\n",
       "      <th>2</th>\n",
       "      <td>2</td>\n",
       "      <td>rsc processed prepaid new line activation 1172...</td>\n",
       "      <td>['activation', 'charge']</td>\n",
       "    </tr>\n",
       "    <tr>\n",
       "      <th>3</th>\n",
       "      <td>3</td>\n",
       "      <td>activate apple server activation issue</td>\n",
       "      <td>['activation']</td>\n",
       "    </tr>\n",
       "    <tr>\n",
       "      <th>4</th>\n",
       "      <td>4</td>\n",
       "      <td>housing damage discover activation</td>\n",
       "      <td>['activation', 'damage']</td>\n",
       "    </tr>\n",
       "    <tr>\n",
       "      <th>5</th>\n",
       "      <td>5</td>\n",
       "      <td>phone continue activation mode get stuck looki...</td>\n",
       "      <td>['activation']</td>\n",
       "    </tr>\n",
       "    <tr>\n",
       "      <th>6</th>\n",
       "      <td>6</td>\n",
       "      <td>device cmpleted process activation</td>\n",
       "      <td>['activation']</td>\n",
       "    </tr>\n",
       "    <tr>\n",
       "      <th>7</th>\n",
       "      <td>7</td>\n",
       "      <td>phone would complete initial activation</td>\n",
       "      <td>['activation']</td>\n",
       "    </tr>\n",
       "    <tr>\n",
       "      <th>8</th>\n",
       "      <td>8</td>\n",
       "      <td>phone locked activation screen</td>\n",
       "      <td>['activation']</td>\n",
       "    </tr>\n",
       "    <tr>\n",
       "      <th>9</th>\n",
       "      <td>9</td>\n",
       "      <td>box activation failure doa</td>\n",
       "      <td>['activation', 'doa']</td>\n",
       "    </tr>\n",
       "    <tr>\n",
       "      <th>10</th>\n",
       "      <td>10</td>\n",
       "      <td>phone power initial setup activation</td>\n",
       "      <td>['activation', 'power']</td>\n",
       "    </tr>\n",
       "    <tr>\n",
       "      <th>11</th>\n",
       "      <td>11</td>\n",
       "      <td>watch would finish setting activation</td>\n",
       "      <td>['activation']</td>\n",
       "    </tr>\n",
       "    <tr>\n",
       "      <th>12</th>\n",
       "      <td>12</td>\n",
       "      <td>phone stuck boot load cant hard reset phone so...</td>\n",
       "      <td>['activation', 'software']</td>\n",
       "    </tr>\n",
       "    <tr>\n",
       "      <th>13</th>\n",
       "      <td>13</td>\n",
       "      <td>phone go passed activation screen error set</td>\n",
       "      <td>['activation']</td>\n",
       "    </tr>\n",
       "    <tr>\n",
       "      <th>14</th>\n",
       "      <td>14</td>\n",
       "      <td>activate turned go past activation</td>\n",
       "      <td>['activation']</td>\n",
       "    </tr>\n",
       "    <tr>\n",
       "      <th>15</th>\n",
       "      <td>15</td>\n",
       "      <td>phone wont power activation</td>\n",
       "      <td>['activation', 'power']</td>\n",
       "    </tr>\n",
       "    <tr>\n",
       "      <th>16</th>\n",
       "      <td>16</td>\n",
       "      <td>device keep cycling go past activation screen ...</td>\n",
       "      <td>['activation', 'doa']</td>\n",
       "    </tr>\n",
       "    <tr>\n",
       "      <th>17</th>\n",
       "      <td>17</td>\n",
       "      <td>phone doesnt pas activation screen</td>\n",
       "      <td>['activation']</td>\n",
       "    </tr>\n",
       "    <tr>\n",
       "      <th>18</th>\n",
       "      <td>18</td>\n",
       "      <td>trying set face id activation process phone ju...</td>\n",
       "      <td>['activation']</td>\n",
       "    </tr>\n",
       "    <tr>\n",
       "      <th>19</th>\n",
       "      <td>19</td>\n",
       "      <td>error message display phone set could activate...</td>\n",
       "      <td>['activation', 'display']</td>\n",
       "    </tr>\n",
       "  </tbody>\n",
       "</table>\n",
       "</div>"
      ],
      "text/plain": [
       "    No                                           comments  \\\n",
       "0    0                    new activation power new device   \n",
       "1    1  phone would turn activation apple logo doesnt ...   \n",
       "2    2  rsc processed prepaid new line activation 1172...   \n",
       "3    3             activate apple server activation issue   \n",
       "4    4                 housing damage discover activation   \n",
       "5    5  phone continue activation mode get stuck looki...   \n",
       "6    6                 device cmpleted process activation   \n",
       "7    7            phone would complete initial activation   \n",
       "8    8                     phone locked activation screen   \n",
       "9    9                         box activation failure doa   \n",
       "10  10               phone power initial setup activation   \n",
       "11  11              watch would finish setting activation   \n",
       "12  12  phone stuck boot load cant hard reset phone so...   \n",
       "13  13        phone go passed activation screen error set   \n",
       "14  14                 activate turned go past activation   \n",
       "15  15                        phone wont power activation   \n",
       "16  16  device keep cycling go past activation screen ...   \n",
       "17  17                 phone doesnt pas activation screen   \n",
       "18  18  trying set face id activation process phone ju...   \n",
       "19  19  error message display phone set could activate...   \n",
       "\n",
       "                         issue  \n",
       "0      ['activation', 'power']  \n",
       "1      ['activation', 'power']  \n",
       "2     ['activation', 'charge']  \n",
       "3               ['activation']  \n",
       "4     ['activation', 'damage']  \n",
       "5               ['activation']  \n",
       "6               ['activation']  \n",
       "7               ['activation']  \n",
       "8               ['activation']  \n",
       "9        ['activation', 'doa']  \n",
       "10     ['activation', 'power']  \n",
       "11              ['activation']  \n",
       "12  ['activation', 'software']  \n",
       "13              ['activation']  \n",
       "14              ['activation']  \n",
       "15     ['activation', 'power']  \n",
       "16       ['activation', 'doa']  \n",
       "17              ['activation']  \n",
       "18              ['activation']  \n",
       "19   ['activation', 'display']  "
      ]
     },
     "execution_count": 2,
     "metadata": {},
     "output_type": "execute_result"
    }
   ],
   "source": [
    "# Reading the csv file\n",
    "\n",
    "df = pd.read_csv(r\"C:\\Users\\talas\\Downloads\\NLP\\train_fqin_revised_labels.csv\")\n",
    "df.head(20)"
   ]
  },
  {
   "cell_type": "code",
   "execution_count": 3,
   "id": "3e0cfd02",
   "metadata": {},
   "outputs": [
    {
     "data": {
      "text/plain": [
       "str"
      ]
     },
     "execution_count": 3,
     "metadata": {},
     "output_type": "execute_result"
    }
   ],
   "source": [
    "type(df['issue'].iloc[3])"
   ]
  },
  {
   "cell_type": "code",
   "execution_count": 4,
   "id": "de80da91",
   "metadata": {},
   "outputs": [
    {
     "data": {
      "text/plain": [
       "['activation', 'power']"
      ]
     },
     "execution_count": 4,
     "metadata": {},
     "output_type": "execute_result"
    }
   ],
   "source": [
    "import ast\n",
    "ast.literal_eval(df['issue'].iloc[0])"
   ]
  },
  {
   "cell_type": "code",
   "execution_count": 5,
   "id": "4a56005c",
   "metadata": {},
   "outputs": [],
   "source": [
    "# Convert the string format to list using lambda function\n",
    "\n",
    "df['issue'] = df['issue'].apply(lambda x: ast.literal_eval(x))"
   ]
  },
  {
   "cell_type": "code",
   "execution_count": 6,
   "id": "ace0947c",
   "metadata": {
    "scrolled": true
   },
   "outputs": [
    {
     "data": {
      "text/html": [
       "<div>\n",
       "<style scoped>\n",
       "    .dataframe tbody tr th:only-of-type {\n",
       "        vertical-align: middle;\n",
       "    }\n",
       "\n",
       "    .dataframe tbody tr th {\n",
       "        vertical-align: top;\n",
       "    }\n",
       "\n",
       "    .dataframe thead th {\n",
       "        text-align: right;\n",
       "    }\n",
       "</style>\n",
       "<table border=\"1\" class=\"dataframe\">\n",
       "  <thead>\n",
       "    <tr style=\"text-align: right;\">\n",
       "      <th></th>\n",
       "      <th>No</th>\n",
       "      <th>comments</th>\n",
       "      <th>issue</th>\n",
       "    </tr>\n",
       "  </thead>\n",
       "  <tbody>\n",
       "    <tr>\n",
       "      <th>0</th>\n",
       "      <td>0</td>\n",
       "      <td>new activation power new device</td>\n",
       "      <td>[activation, power]</td>\n",
       "    </tr>\n",
       "    <tr>\n",
       "      <th>1</th>\n",
       "      <td>1</td>\n",
       "      <td>phone would turn activation apple logo doesnt ...</td>\n",
       "      <td>[activation, power]</td>\n",
       "    </tr>\n",
       "    <tr>\n",
       "      <th>2</th>\n",
       "      <td>2</td>\n",
       "      <td>rsc processed prepaid new line activation 1172...</td>\n",
       "      <td>[activation, charge]</td>\n",
       "    </tr>\n",
       "    <tr>\n",
       "      <th>3</th>\n",
       "      <td>3</td>\n",
       "      <td>activate apple server activation issue</td>\n",
       "      <td>[activation]</td>\n",
       "    </tr>\n",
       "    <tr>\n",
       "      <th>4</th>\n",
       "      <td>4</td>\n",
       "      <td>housing damage discover activation</td>\n",
       "      <td>[activation, damage]</td>\n",
       "    </tr>\n",
       "  </tbody>\n",
       "</table>\n",
       "</div>"
      ],
      "text/plain": [
       "   No                                           comments                 issue\n",
       "0   0                    new activation power new device   [activation, power]\n",
       "1   1  phone would turn activation apple logo doesnt ...   [activation, power]\n",
       "2   2  rsc processed prepaid new line activation 1172...  [activation, charge]\n",
       "3   3             activate apple server activation issue          [activation]\n",
       "4   4                 housing damage discover activation  [activation, damage]"
      ]
     },
     "execution_count": 6,
     "metadata": {},
     "output_type": "execute_result"
    }
   ],
   "source": [
    "df.head()"
   ]
  },
  {
   "cell_type": "code",
   "execution_count": 7,
   "id": "05f3bcd2",
   "metadata": {},
   "outputs": [],
   "source": [
    "from sklearn.feature_extraction.text import TfidfVectorizer\n",
    "from sklearn.preprocessing import MultiLabelBinarizer\n",
    "from sklearn.model_selection import train_test_split"
   ]
  },
  {
   "cell_type": "code",
   "execution_count": 8,
   "id": "9ffc345c",
   "metadata": {},
   "outputs": [],
   "source": [
    "from sklearn.linear_model import SGDClassifier\n",
    "from sklearn.linear_model import LogisticRegression\n",
    "from sklearn.svm import LinearSVC\n",
    "\n",
    "from sklearn.multiclass import OneVsRestClassifier\n"
   ]
  },
  {
   "cell_type": "code",
   "execution_count": 9,
   "id": "c0349d1a",
   "metadata": {},
   "outputs": [
    {
     "data": {
      "text/plain": [
       "0           [activation, power]\n",
       "1           [activation, power]\n",
       "2          [activation, charge]\n",
       "3                  [activation]\n",
       "4          [activation, damage]\n",
       "                  ...          \n",
       "19350                 [speaker]\n",
       "19351          [audio, speaker]\n",
       "19352                 [speaker]\n",
       "19353    [damage, doa, speaker]\n",
       "19354                 [speaker]\n",
       "Name: issue, Length: 19355, dtype: object"
      ]
     },
     "execution_count": 9,
     "metadata": {},
     "output_type": "execute_result"
    }
   ],
   "source": [
    "y = df['issue']\n",
    "y"
   ]
  },
  {
   "cell_type": "code",
   "execution_count": 10,
   "id": "f4bf761f",
   "metadata": {},
   "outputs": [],
   "source": [
    "multilabel = MultiLabelBinarizer()\n",
    "y = multilabel.fit_transform(df['issue'])"
   ]
  },
  {
   "cell_type": "code",
   "execution_count": 11,
   "id": "ce802438",
   "metadata": {},
   "outputs": [
    {
     "data": {
      "text/plain": [
       "array([[1, 0, 0, ..., 0, 0, 0],\n",
       "       [1, 0, 0, ..., 0, 0, 0],\n",
       "       [1, 0, 0, ..., 0, 0, 0],\n",
       "       ...,\n",
       "       [0, 0, 0, ..., 0, 0, 1],\n",
       "       [0, 0, 0, ..., 0, 0, 1],\n",
       "       [0, 0, 0, ..., 0, 0, 1]])"
      ]
     },
     "execution_count": 11,
     "metadata": {},
     "output_type": "execute_result"
    }
   ],
   "source": [
    "y"
   ]
  },
  {
   "cell_type": "code",
   "execution_count": 12,
   "id": "db40c839",
   "metadata": {},
   "outputs": [
    {
     "data": {
      "text/plain": [
       "array(['activation', 'antenna', 'audio', 'backlight', 'battery',\n",
       "       'blacklist', 'bluetooth', 'button', 'camera', 'charge', 'charger',\n",
       "       'connectivity', 'cosmetic', 'damage', 'display', 'doa', 'earphone',\n",
       "       'encrypt', 'exchange', 'keypad', 'mic', 'network', 'password',\n",
       "       'power', 'safe', 'service', 'software', 'speaker'], dtype=object)"
      ]
     },
     "execution_count": 12,
     "metadata": {},
     "output_type": "execute_result"
    }
   ],
   "source": [
    "# 28 unique classes\n",
    "\n",
    "multilabel.classes_"
   ]
  },
  {
   "cell_type": "code",
   "execution_count": 13,
   "id": "e92dceca",
   "metadata": {},
   "outputs": [
    {
     "data": {
      "text/html": [
       "<div>\n",
       "<style scoped>\n",
       "    .dataframe tbody tr th:only-of-type {\n",
       "        vertical-align: middle;\n",
       "    }\n",
       "\n",
       "    .dataframe tbody tr th {\n",
       "        vertical-align: top;\n",
       "    }\n",
       "\n",
       "    .dataframe thead th {\n",
       "        text-align: right;\n",
       "    }\n",
       "</style>\n",
       "<table border=\"1\" class=\"dataframe\">\n",
       "  <thead>\n",
       "    <tr style=\"text-align: right;\">\n",
       "      <th></th>\n",
       "      <th>activation</th>\n",
       "      <th>antenna</th>\n",
       "      <th>audio</th>\n",
       "      <th>backlight</th>\n",
       "      <th>battery</th>\n",
       "      <th>blacklist</th>\n",
       "      <th>bluetooth</th>\n",
       "      <th>button</th>\n",
       "      <th>camera</th>\n",
       "      <th>charge</th>\n",
       "      <th>...</th>\n",
       "      <th>exchange</th>\n",
       "      <th>keypad</th>\n",
       "      <th>mic</th>\n",
       "      <th>network</th>\n",
       "      <th>password</th>\n",
       "      <th>power</th>\n",
       "      <th>safe</th>\n",
       "      <th>service</th>\n",
       "      <th>software</th>\n",
       "      <th>speaker</th>\n",
       "    </tr>\n",
       "  </thead>\n",
       "  <tbody>\n",
       "    <tr>\n",
       "      <th>0</th>\n",
       "      <td>1</td>\n",
       "      <td>0</td>\n",
       "      <td>0</td>\n",
       "      <td>0</td>\n",
       "      <td>0</td>\n",
       "      <td>0</td>\n",
       "      <td>0</td>\n",
       "      <td>0</td>\n",
       "      <td>0</td>\n",
       "      <td>0</td>\n",
       "      <td>...</td>\n",
       "      <td>0</td>\n",
       "      <td>0</td>\n",
       "      <td>0</td>\n",
       "      <td>0</td>\n",
       "      <td>0</td>\n",
       "      <td>1</td>\n",
       "      <td>0</td>\n",
       "      <td>0</td>\n",
       "      <td>0</td>\n",
       "      <td>0</td>\n",
       "    </tr>\n",
       "    <tr>\n",
       "      <th>1</th>\n",
       "      <td>1</td>\n",
       "      <td>0</td>\n",
       "      <td>0</td>\n",
       "      <td>0</td>\n",
       "      <td>0</td>\n",
       "      <td>0</td>\n",
       "      <td>0</td>\n",
       "      <td>0</td>\n",
       "      <td>0</td>\n",
       "      <td>0</td>\n",
       "      <td>...</td>\n",
       "      <td>0</td>\n",
       "      <td>0</td>\n",
       "      <td>0</td>\n",
       "      <td>0</td>\n",
       "      <td>0</td>\n",
       "      <td>1</td>\n",
       "      <td>0</td>\n",
       "      <td>0</td>\n",
       "      <td>0</td>\n",
       "      <td>0</td>\n",
       "    </tr>\n",
       "    <tr>\n",
       "      <th>2</th>\n",
       "      <td>1</td>\n",
       "      <td>0</td>\n",
       "      <td>0</td>\n",
       "      <td>0</td>\n",
       "      <td>0</td>\n",
       "      <td>0</td>\n",
       "      <td>0</td>\n",
       "      <td>0</td>\n",
       "      <td>0</td>\n",
       "      <td>1</td>\n",
       "      <td>...</td>\n",
       "      <td>0</td>\n",
       "      <td>0</td>\n",
       "      <td>0</td>\n",
       "      <td>0</td>\n",
       "      <td>0</td>\n",
       "      <td>0</td>\n",
       "      <td>0</td>\n",
       "      <td>0</td>\n",
       "      <td>0</td>\n",
       "      <td>0</td>\n",
       "    </tr>\n",
       "    <tr>\n",
       "      <th>3</th>\n",
       "      <td>1</td>\n",
       "      <td>0</td>\n",
       "      <td>0</td>\n",
       "      <td>0</td>\n",
       "      <td>0</td>\n",
       "      <td>0</td>\n",
       "      <td>0</td>\n",
       "      <td>0</td>\n",
       "      <td>0</td>\n",
       "      <td>0</td>\n",
       "      <td>...</td>\n",
       "      <td>0</td>\n",
       "      <td>0</td>\n",
       "      <td>0</td>\n",
       "      <td>0</td>\n",
       "      <td>0</td>\n",
       "      <td>0</td>\n",
       "      <td>0</td>\n",
       "      <td>0</td>\n",
       "      <td>0</td>\n",
       "      <td>0</td>\n",
       "    </tr>\n",
       "    <tr>\n",
       "      <th>4</th>\n",
       "      <td>1</td>\n",
       "      <td>0</td>\n",
       "      <td>0</td>\n",
       "      <td>0</td>\n",
       "      <td>0</td>\n",
       "      <td>0</td>\n",
       "      <td>0</td>\n",
       "      <td>0</td>\n",
       "      <td>0</td>\n",
       "      <td>0</td>\n",
       "      <td>...</td>\n",
       "      <td>0</td>\n",
       "      <td>0</td>\n",
       "      <td>0</td>\n",
       "      <td>0</td>\n",
       "      <td>0</td>\n",
       "      <td>0</td>\n",
       "      <td>0</td>\n",
       "      <td>0</td>\n",
       "      <td>0</td>\n",
       "      <td>0</td>\n",
       "    </tr>\n",
       "    <tr>\n",
       "      <th>...</th>\n",
       "      <td>...</td>\n",
       "      <td>...</td>\n",
       "      <td>...</td>\n",
       "      <td>...</td>\n",
       "      <td>...</td>\n",
       "      <td>...</td>\n",
       "      <td>...</td>\n",
       "      <td>...</td>\n",
       "      <td>...</td>\n",
       "      <td>...</td>\n",
       "      <td>...</td>\n",
       "      <td>...</td>\n",
       "      <td>...</td>\n",
       "      <td>...</td>\n",
       "      <td>...</td>\n",
       "      <td>...</td>\n",
       "      <td>...</td>\n",
       "      <td>...</td>\n",
       "      <td>...</td>\n",
       "      <td>...</td>\n",
       "      <td>...</td>\n",
       "    </tr>\n",
       "    <tr>\n",
       "      <th>19350</th>\n",
       "      <td>0</td>\n",
       "      <td>0</td>\n",
       "      <td>0</td>\n",
       "      <td>0</td>\n",
       "      <td>0</td>\n",
       "      <td>0</td>\n",
       "      <td>0</td>\n",
       "      <td>0</td>\n",
       "      <td>0</td>\n",
       "      <td>0</td>\n",
       "      <td>...</td>\n",
       "      <td>0</td>\n",
       "      <td>0</td>\n",
       "      <td>0</td>\n",
       "      <td>0</td>\n",
       "      <td>0</td>\n",
       "      <td>0</td>\n",
       "      <td>0</td>\n",
       "      <td>0</td>\n",
       "      <td>0</td>\n",
       "      <td>1</td>\n",
       "    </tr>\n",
       "    <tr>\n",
       "      <th>19351</th>\n",
       "      <td>0</td>\n",
       "      <td>0</td>\n",
       "      <td>1</td>\n",
       "      <td>0</td>\n",
       "      <td>0</td>\n",
       "      <td>0</td>\n",
       "      <td>0</td>\n",
       "      <td>0</td>\n",
       "      <td>0</td>\n",
       "      <td>0</td>\n",
       "      <td>...</td>\n",
       "      <td>0</td>\n",
       "      <td>0</td>\n",
       "      <td>0</td>\n",
       "      <td>0</td>\n",
       "      <td>0</td>\n",
       "      <td>0</td>\n",
       "      <td>0</td>\n",
       "      <td>0</td>\n",
       "      <td>0</td>\n",
       "      <td>1</td>\n",
       "    </tr>\n",
       "    <tr>\n",
       "      <th>19352</th>\n",
       "      <td>0</td>\n",
       "      <td>0</td>\n",
       "      <td>0</td>\n",
       "      <td>0</td>\n",
       "      <td>0</td>\n",
       "      <td>0</td>\n",
       "      <td>0</td>\n",
       "      <td>0</td>\n",
       "      <td>0</td>\n",
       "      <td>0</td>\n",
       "      <td>...</td>\n",
       "      <td>0</td>\n",
       "      <td>0</td>\n",
       "      <td>0</td>\n",
       "      <td>0</td>\n",
       "      <td>0</td>\n",
       "      <td>0</td>\n",
       "      <td>0</td>\n",
       "      <td>0</td>\n",
       "      <td>0</td>\n",
       "      <td>1</td>\n",
       "    </tr>\n",
       "    <tr>\n",
       "      <th>19353</th>\n",
       "      <td>0</td>\n",
       "      <td>0</td>\n",
       "      <td>0</td>\n",
       "      <td>0</td>\n",
       "      <td>0</td>\n",
       "      <td>0</td>\n",
       "      <td>0</td>\n",
       "      <td>0</td>\n",
       "      <td>0</td>\n",
       "      <td>0</td>\n",
       "      <td>...</td>\n",
       "      <td>0</td>\n",
       "      <td>0</td>\n",
       "      <td>0</td>\n",
       "      <td>0</td>\n",
       "      <td>0</td>\n",
       "      <td>0</td>\n",
       "      <td>0</td>\n",
       "      <td>0</td>\n",
       "      <td>0</td>\n",
       "      <td>1</td>\n",
       "    </tr>\n",
       "    <tr>\n",
       "      <th>19354</th>\n",
       "      <td>0</td>\n",
       "      <td>0</td>\n",
       "      <td>0</td>\n",
       "      <td>0</td>\n",
       "      <td>0</td>\n",
       "      <td>0</td>\n",
       "      <td>0</td>\n",
       "      <td>0</td>\n",
       "      <td>0</td>\n",
       "      <td>0</td>\n",
       "      <td>...</td>\n",
       "      <td>0</td>\n",
       "      <td>0</td>\n",
       "      <td>0</td>\n",
       "      <td>0</td>\n",
       "      <td>0</td>\n",
       "      <td>0</td>\n",
       "      <td>0</td>\n",
       "      <td>0</td>\n",
       "      <td>0</td>\n",
       "      <td>1</td>\n",
       "    </tr>\n",
       "  </tbody>\n",
       "</table>\n",
       "<p>19355 rows × 28 columns</p>\n",
       "</div>"
      ],
      "text/plain": [
       "       activation  antenna  audio  backlight  battery  blacklist  bluetooth  \\\n",
       "0               1        0      0          0        0          0          0   \n",
       "1               1        0      0          0        0          0          0   \n",
       "2               1        0      0          0        0          0          0   \n",
       "3               1        0      0          0        0          0          0   \n",
       "4               1        0      0          0        0          0          0   \n",
       "...           ...      ...    ...        ...      ...        ...        ...   \n",
       "19350           0        0      0          0        0          0          0   \n",
       "19351           0        0      1          0        0          0          0   \n",
       "19352           0        0      0          0        0          0          0   \n",
       "19353           0        0      0          0        0          0          0   \n",
       "19354           0        0      0          0        0          0          0   \n",
       "\n",
       "       button  camera  charge  ...  exchange  keypad  mic  network  password  \\\n",
       "0           0       0       0  ...         0       0    0        0         0   \n",
       "1           0       0       0  ...         0       0    0        0         0   \n",
       "2           0       0       1  ...         0       0    0        0         0   \n",
       "3           0       0       0  ...         0       0    0        0         0   \n",
       "4           0       0       0  ...         0       0    0        0         0   \n",
       "...       ...     ...     ...  ...       ...     ...  ...      ...       ...   \n",
       "19350       0       0       0  ...         0       0    0        0         0   \n",
       "19351       0       0       0  ...         0       0    0        0         0   \n",
       "19352       0       0       0  ...         0       0    0        0         0   \n",
       "19353       0       0       0  ...         0       0    0        0         0   \n",
       "19354       0       0       0  ...         0       0    0        0         0   \n",
       "\n",
       "       power  safe  service  software  speaker  \n",
       "0          1     0        0         0        0  \n",
       "1          1     0        0         0        0  \n",
       "2          0     0        0         0        0  \n",
       "3          0     0        0         0        0  \n",
       "4          0     0        0         0        0  \n",
       "...      ...   ...      ...       ...      ...  \n",
       "19350      0     0        0         0        1  \n",
       "19351      0     0        0         0        1  \n",
       "19352      0     0        0         0        1  \n",
       "19353      0     0        0         0        1  \n",
       "19354      0     0        0         0        1  \n",
       "\n",
       "[19355 rows x 28 columns]"
      ]
     },
     "execution_count": 13,
     "metadata": {},
     "output_type": "execute_result"
    }
   ],
   "source": [
    "pd.DataFrame(y,columns=multilabel.classes_)"
   ]
  },
  {
   "cell_type": "code",
   "execution_count": 14,
   "id": "4e4b57fa",
   "metadata": {},
   "outputs": [],
   "source": [
    "tfidf = TfidfVectorizer(analyzer='word',max_features=1000)\n",
    "X = tfidf.fit_transform(df['comments'])"
   ]
  },
  {
   "cell_type": "code",
   "execution_count": 15,
   "id": "d2953c4a",
   "metadata": {},
   "outputs": [
    {
     "data": {
      "text/plain": [
       "<19355x1000 sparse matrix of type '<class 'numpy.float64'>'\n",
       "\twith 109083 stored elements in Compressed Sparse Row format>"
      ]
     },
     "execution_count": 15,
     "metadata": {},
     "output_type": "execute_result"
    }
   ],
   "source": [
    "X"
   ]
  },
  {
   "cell_type": "code",
   "execution_count": 43,
   "id": "942dfd89",
   "metadata": {},
   "outputs": [],
   "source": [
    "# \n",
    "#tfidf.vocabulary_"
   ]
  },
  {
   "cell_type": "code",
   "execution_count": 16,
   "id": "3427168a",
   "metadata": {},
   "outputs": [
    {
     "data": {
      "text/plain": [
       "((19355, 1000), (19355, 28))"
      ]
     },
     "execution_count": 16,
     "metadata": {},
     "output_type": "execute_result"
    }
   ],
   "source": [
    "X.shape , y.shape"
   ]
  },
  {
   "cell_type": "code",
   "execution_count": 17,
   "id": "41660788",
   "metadata": {},
   "outputs": [],
   "source": [
    "# Splitting the dataset(80-20 split)\n",
    "\n",
    "X_train, X_test, y_train, y_test = train_test_split(X, y, test_size = 0.2, random_state = 0)"
   ]
  },
  {
   "cell_type": "markdown",
   "id": "962f1a7e",
   "metadata": {},
   "source": [
    "# Build models"
   ]
  },
  {
   "cell_type": "code",
   "execution_count": 18,
   "id": "6c74b28b",
   "metadata": {},
   "outputs": [],
   "source": [
    "sgd = SGDClassifier()\n",
    "lr = LogisticRegression(solver='lbfgs')\n",
    "svc = LinearSVC()"
   ]
  },
  {
   "cell_type": "code",
   "execution_count": 19,
   "id": "556dbcd1",
   "metadata": {},
   "outputs": [],
   "source": [
    "def j_score(y_true, y_pred):\n",
    "  jaccard = np.minimum(y_true, y_pred).sum(axis = 1)/np.maximum(y_true, y_pred).sum(axis = 1)\n",
    "  return jaccard.mean()*100\n",
    "\n",
    "\n",
    "def print_score(y_pred, clf):\n",
    "  print(\"Clf: \", clf.__class__.__name__)\n",
    "  print('Jacard score: {}'.format(j_score(y_test, y_pred)))\n",
    "  print('----')"
   ]
  },
  {
   "cell_type": "code",
   "execution_count": 20,
   "id": "71b66ca1",
   "metadata": {},
   "outputs": [
    {
     "name": "stdout",
     "output_type": "stream",
     "text": [
      "Clf:  SGDClassifier\n",
      "Jacard score: 98.74063549470421\n",
      "----\n",
      "Clf:  LogisticRegression\n",
      "Jacard score: 94.697752518729\n",
      "----\n",
      "Clf:  LinearSVC\n",
      "Jacard score: 98.79876001033324\n",
      "----\n"
     ]
    }
   ],
   "source": [
    "for classifier in [sgd, lr, svc]:\n",
    "  clf = OneVsRestClassifier(classifier)\n",
    "  clf.fit(X_train, y_train)\n",
    "  y_pred = clf.predict(X_test)\n",
    "  print_score(y_pred, classifier)"
   ]
  },
  {
   "cell_type": "markdown",
   "id": "8f200779",
   "metadata": {},
   "source": [
    "# Model testing on Real data"
   ]
  },
  {
   "cell_type": "code",
   "execution_count": 21,
   "id": "253d60c5",
   "metadata": {},
   "outputs": [],
   "source": [
    "a = ['new activation power new device']"
   ]
  },
  {
   "cell_type": "code",
   "execution_count": 22,
   "id": "bc1faa30",
   "metadata": {},
   "outputs": [
    {
     "data": {
      "text/plain": [
       "array([[1, 0, 0, 0, 0, 0, 0, 0, 0, 0, 0, 0, 0, 0, 0, 0, 0, 0, 0, 0, 0, 0,\n",
       "        0, 1, 0, 0, 0, 0]])"
      ]
     },
     "execution_count": 22,
     "metadata": {},
     "output_type": "execute_result"
    }
   ],
   "source": [
    "at = tfidf.transform(a)\n",
    "clf.predict(at)"
   ]
  },
  {
   "cell_type": "code",
   "execution_count": 23,
   "id": "4e62de3a",
   "metadata": {},
   "outputs": [
    {
     "data": {
      "text/plain": [
       "[('activation', 'power')]"
      ]
     },
     "execution_count": 23,
     "metadata": {},
     "output_type": "execute_result"
    }
   ],
   "source": [
    "multilabel.inverse_transform(clf.predict(at))"
   ]
  },
  {
   "cell_type": "code",
   "execution_count": null,
   "id": "1fb74f82",
   "metadata": {},
   "outputs": [],
   "source": []
  }
 ],
 "metadata": {
  "kernelspec": {
   "display_name": "Python 3 (ipykernel)",
   "language": "python",
   "name": "python3"
  },
  "language_info": {
   "codemirror_mode": {
    "name": "ipython",
    "version": 3
   },
   "file_extension": ".py",
   "mimetype": "text/x-python",
   "name": "python",
   "nbconvert_exporter": "python",
   "pygments_lexer": "ipython3",
   "version": "3.10.9"
  }
 },
 "nbformat": 4,
 "nbformat_minor": 5
}
